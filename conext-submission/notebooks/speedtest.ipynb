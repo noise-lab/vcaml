{
 "cells": [
  {
   "cell_type": "code",
   "execution_count": 44,
   "id": "2debc7c2",
   "metadata": {},
   "outputs": [],
   "source": [
    "import pandas as pd\n",
    "import json, numpy as np, math\n",
    "import scipy.stats\n",
    "import os"
   ]
  },
  {
   "cell_type": "code",
   "execution_count": 30,
   "id": "23c573fc",
   "metadata": {},
   "outputs": [],
   "source": [
    "def get_bw(x):\n",
    "    l = x[\"server_measurements\"]\n",
    "    bw_list = [8*float(x[\"TCPInfo\"][\"BytesReceived\"]) / float(x[\"TCPInfo\"][\"ElapsedTime\"]) for x in l]\n",
    "    return bw_list\n",
    "\n",
    "def get_rtt(x):\n",
    "    l = x[\"server_measurements\"]\n",
    "    rtt_list = [int(int(x[\"TCPInfo\"][\"RTT\"])/2) for x in l]\n",
    "    return rtt_list \n",
    "\n",
    "def get_rtt_var(x):\n",
    "    l = x[\"server_measurements\"]\n",
    "    rtt_var = [int(int(x[\"TCPInfo\"][\"RTTVar\"])/2) for x in l]\n",
    "    return rtt_var\n",
    "\n",
    "def get_loss(x):\n",
    "    l = x[\"server_measurements\"]\n",
    "    loss_list = []\n",
    "    loss = 0\n",
    "    for i in range(1, len(l)):\n",
    "        x1 = l[i][\"TCPInfo\"]\n",
    "        x2 = l[i-1][\"TCPInfo\"]\n",
    "        retrans = float(x1[\"TotalRetrans\"]) - float(x2[\"TotalRetrans\"])\n",
    "        segs_in = float(x1[\"SegsIn\"]) - float(x2[\"SegsIn\"])\n",
    "        if segs_in != 0:\n",
    "            loss = retrans / segs_in\n",
    "        loss_list.append(loss)\n",
    "    return loss_list\n",
    "\n",
    "def write_stat(x):\n",
    "    (mean_bw, std_bw) = x[\"bw_stat\"]\n",
    "    (mean_bw, std_bw) = (int(1000*mean_bw), int(1000*std_bw))\n",
    "    (rtt_list, rtt_var_list) = (x[\"rtt_list\"], x[\"rtt_var_list\"])\n",
    "    mean_rtt = int(np.mean(rtt_list))\n",
    "    var_rtt = int(np.mean(rtt_var_list))\n",
    "    outfile = f\"traces/{mean_bw}_{std_bw}_{mean_rtt}_{var_rtt}_{len(rtt_list)}.csv\"\n",
    "    f = open(outfile, 'w')\n",
    "    random = scipy.stats.truncnorm.rvs(-0.5, 0.5, size=100)    \n",
    "    for i in range(0, len(rtt_list)):\n",
    "        bw = int(random[i]*std_bw + mean_bw)\n",
    "        l = ','.join(list(map(str, [bw, rtt_list[i], rtt_var_list[i]]))) + '\\n'\n",
    "        f.write(l)\n",
    "    f.close()"
   ]
  },
  {
   "cell_type": "code",
   "execution_count": 40,
   "id": "7e67d6f3",
   "metadata": {},
   "outputs": [],
   "source": [
    "fname = \"../data/bq-results-20220615-161531-1655310096986.json\"\n",
    "content = open(fname).readlines()\n",
    "data_list = []\n",
    "for l in content:\n",
    "    data = json.loads(l[:-1])\n",
    "    bw_list = get_bw(data)\n",
    "    rtt_list = get_rtt(data)\n",
    "    rtt_var_list = get_rtt_var(data)\n",
    "    (mean_bw, std_bw) = (int(1000*np.mean(bw_list)), int(1000*np.std(bw_list)))\n",
    "    mean_rtt = int(np.mean(rtt_list))\n",
    "    var_rtt = int(np.std(rtt_list))\n",
    "    outfile = f\"traces_new/{mean_bw}_{std_bw}_{mean_rtt}_{var_rtt}_{len(rtt_list)}.csv\"\n",
    "    f = open(outfile, 'w')\n",
    "    random = scipy.stats.truncnorm.rvs(-0.5, 0.5, size=100)    \n",
    "    for i in range(0, len(rtt_list)):\n",
    "        bw = int(random[i]*std_bw + mean_bw)\n",
    "        l = ','.join(list(map(str, [bw, rtt_list[i], rtt_var_list[i]]))) + '\\n'\n",
    "        f.write(l)\n",
    "    f.close()"
   ]
  },
  {
   "cell_type": "code",
   "execution_count": 14,
   "id": "4a58b763",
   "metadata": {},
   "outputs": [],
   "source": [
    "\n",
    "\n",
    "df[\"bw_list\"] = df[\"server_measurements_json\"].apply(get_bw)\n",
    "df[\"rtt_list\"] = df[\"server_measurements_json\"].apply(get_rtt)\n",
    "df[\"rtt_var_list\"] = df[\"server_measurements_json\"].apply(get_rtt_var)\n",
    "df[\"loss\"] = df[\"server_measurements_json\"].apply(get_loss)\n",
    "df[\"bw_stat\"] = df[\"bw_list\"].apply(lambda x: (np.mean(x), np.std(x)))"
   ]
  },
  {
   "cell_type": "code",
   "execution_count": 54,
   "id": "8af77bd4",
   "metadata": {},
   "outputs": [],
   "source": [
    "def find_nth(haystack, needle, n):\n",
    "    start = haystack.find(needle)\n",
    "    while start >= 0 and n > 1:\n",
    "        start = haystack.find(needle, start+len(needle))\n",
    "        n -= 1\n",
    "    return start\n",
    "\n",
    "from glob import glob\n",
    "dname = \"traces_new/\"\n",
    "filelist = glob(f\"{dname}/*.csv\")\n",
    "for filename in filelist:\n",
    "    idx = filename.rfind(\"_\")\n",
    "    num_sec = int(filename[idx+1:-4])\n",
    "    idx2 = find_nth(filename, \"_\", 2)\n",
    "    bw = int(filename[len(dname):idx2])\n",
    "    if num_sec < 30 or bw < 100:\n",
    "        os.system(\"rm %s\" % filename)"
   ]
  },
  {
   "cell_type": "code",
   "execution_count": null,
   "id": "978cb4a7",
   "metadata": {},
   "outputs": [],
   "source": []
  }
 ],
 "metadata": {
  "kernelspec": {
   "display_name": "Python 3",
   "language": "python",
   "name": "python3"
  },
  "language_info": {
   "codemirror_mode": {
    "name": "ipython",
    "version": 3
   },
   "file_extension": ".py",
   "mimetype": "text/x-python",
   "name": "python",
   "nbconvert_exporter": "python",
   "pygments_lexer": "ipython3",
   "version": "3.7.10"
  }
 },
 "nbformat": 4,
 "nbformat_minor": 5
}
