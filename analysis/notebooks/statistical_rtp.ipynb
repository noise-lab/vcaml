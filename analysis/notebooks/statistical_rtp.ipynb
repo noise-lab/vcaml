{
 "cells": [
  {
   "cell_type": "code",
   "execution_count": 40,
   "id": "e4b9d19a-3d14-443c-bc2e-d407b60bb151",
   "metadata": {},
   "outputs": [],
   "source": [
    "import sys\n",
    "sys.path.insert(0, \"../netml/src/\")\n",
    "import pandas as pd\n",
    "import numpy as np\n",
    "from netml.pparser.parser import PCAP\n",
    "import json\n",
    "import re\n",
    "import ast\n",
    "import warnings\n",
    "from pandas.core.common import SettingWithCopyWarning\n",
    "warnings.simplefilter(action='ignore', category=FutureWarning)\n",
    "warnings.simplefilter(action=\"ignore\", category=SettingWithCopyWarning)\n",
    "import os, glob\n",
    "import seaborn as sns, matplotlib.pyplot as plt"
   ]
  },
  {
   "cell_type": "code",
   "execution_count": 88,
   "id": "073e08e5-8290-482d-bfc7-724d6e1ccffd",
   "metadata": {},
   "outputs": [],
   "source": [
    "%run \"../scripts/helper_functions.py\""
   ]
  },
  {
   "cell_type": "code",
   "execution_count": 89,
   "id": "bdc8edf8-8953-4b17-8fea-054e017c448d",
   "metadata": {},
   "outputs": [
    {
     "name": "stdout",
     "output_type": "stream",
     "text": [
      "no inbound stream\n",
      "no inbound stream\n",
      "no inbound stream\n",
      "no inbound stream\n",
      "no inbound stream\n",
      "no inbound stream\n",
      "no inbound stream\n",
      "no inbound stream\n"
     ]
    },
    {
     "name": "stderr",
     "output_type": "stream",
     "text": [
      "/tmp/ipykernel_939785/3749908963.py:20: DtypeWarning: Columns (22,23) have mixed types. Specify dtype option on import or set low_memory=False.\n",
      "  df_net = pd.read_csv(net_filename, header=None, sep='\\t', names=cols)\n"
     ]
    },
    {
     "name": "stdout",
     "output_type": "stream",
     "text": [
      "capture is too long..skipping ../logs_Meet_05-04/webrtc/1006_296_69046_26895_42_1651708146.json\n",
      "no inbound stream\n",
      "no inbound stream\n",
      "no inbound stream\n",
      "no inbound stream\n",
      "no inbound stream\n",
      "no inbound stream\n",
      "no inbound stream\n",
      "capture is too long..skipping ../logs_Meet_05-04/webrtc/100_35_8122_2915_44_1651711036.json\n",
      "no inbound stream\n",
      "no inbound stream\n",
      "no inbound stream\n",
      "no inbound stream\n",
      "webrtc too short..skipping ../logs_Meet_05-04/webrtc/110_36_8069_1926_40_1651712555.json\n",
      "no inbound stream\n",
      "no inbound stream\n",
      "no inbound stream\n",
      "no inbound stream\n",
      "no inbound stream\n",
      "no inbound stream\n",
      "no inbound stream\n",
      "webrtc too short..skipping ../logs_Meet_05-04/webrtc/8218_1205_23077_5088_51_1651734925.json\n",
      "no inbound stream\n",
      "no inbound stream\n",
      "no inbound stream\n",
      "no inbound stream\n",
      "no inbound stream\n",
      "no inbound stream\n",
      "no inbound stream\n",
      "no inbound stream\n",
      "webrtc too short..skipping ../logs_Meet_05-04/webrtc/3681_723_37545_22329_2_1651724365.json\n",
      "webrtc too short..skipping ../logs_Meet_05-04/webrtc/1064_204_35529_18096_44_1651711933.json\n",
      "no inbound stream\n",
      "no inbound stream\n",
      "no inbound stream\n",
      "no inbound stream\n",
      "webrtc too short..skipping ../logs_Meet_05-04/webrtc/106_20_947922_466700_55_1651712058.json\n",
      "no inbound stream\n",
      "webrtc too short..skipping ../logs_Meet_05-04/webrtc/8103_1287_33617_14316_48_1651734428.json\n",
      "no inbound stream\n"
     ]
    }
   ],
   "source": [
    "dirname = \"../logs_Meet_05-04/\"\n",
    "webrtc_files = glob.glob(f\"{dirname}webrtc/*.json\")\n",
    "file_map = {}\n",
    "cols= ['frame.time_relative','frame.time_epoch','ip.src','ip.dst','ip.proto','ip.len','udp.srcport','udp.dstport', 'udp.length','rtp.ssrc','rtp.timestamp','rtp.seq','rtp.p_type', 'rtp.marker','rtp.padding','rtp.ext','rtp.ext.len','rtcp.pt','rtcp.senderssrc','rtcp.ssrc.high_seq','rtcp.ssrc.dlsr','rtcp.psfb.fmt', 'rtcp.rtpfb.fmt','rtcp.sender.octetcount']\n",
    "for webrtc_filename in webrtc_files:\n",
    "    pref = os.path.basename(webrtc_filename)\n",
    "    net_filename = f\"{dirname}capture/{pref[:-4]}csv\"\n",
    "    if not os.path.exists(net_filename):\n",
    "        continue\n",
    "\n",
    "    df_all = get_webrtc(webrtc_filename)\n",
    "    if df_all.empty:\n",
    "        continue\n",
    "    dur  = df_all[\"ts\"].max() - df_all[\"ts\"].min()\n",
    "    if dur < 85:\n",
    "        print(\"webrtc too short..skipping %s\" % webrtc_filename)\n",
    "        continue\n",
    "\n",
    "    ip = '192.168.1.107'\n",
    "    df_net = pd.read_csv(net_filename, header=None, sep='\\t', names=cols)\n",
    "    time_col = \"frame.time_epoch\"\n",
    "    dur = df_net[time_col].max() - df_net[time_col].min()\n",
    "    if dur > 150:\n",
    "        print(\"capture is too long..skipping %s\" % webrtc_filename) \n",
    "        continue\n",
    "    df1 = df_net[(df_net[\"ip.dst\"] == ip) & (~pd.isna(df_net[\"rtp.ssrc\"]))]\n",
    "    file_map[pref] = {\"webrtc\": df_all, \"pcap\": df1}  "
   ]
  },
  {
   "cell_type": "code",
   "execution_count": 112,
   "id": "ae0f2293-3be7-4f4f-a504-16307a340872",
   "metadata": {},
   "outputs": [],
   "source": [
    "df_list = []\n",
    "i = 0\n",
    "for k in file_map:\n",
    "    df_net = file_map[k]['pcap']\n",
    "    df_video = df_net[df_net[\"rtp.p_type\"] == \"98\"]\n",
    "    df_video = df_video.groupby(\"rtp.timestamp\").agg({\"udp.length\": \"sum\", \"frame.time_epoch\": [\"min\", \"max\"]}).reset_index()\n",
    "    df_video.columns = ['_'.join(col).strip('_') for col in df_video.columns.values]\n",
    "    df_video[\"ft_end\"] = df_video['frame.time_epoch_max'].apply(lambda x: int(x))\n",
    "    df_webrtc = file_map[k]['webrtc']\n",
    "    df_grp = df_video.groupby(\"ft_end\")[\"udp.length_sum\"].agg(\"count\").reset_index()\n",
    "    df_grp = df_grp.rename(columns={'udp.length_sum': 'fps'})\n",
    "    df_merge = pd.merge(df_grp, df_webrtc, left_on=\"ft_end\", right_on=\"ts\")\n",
    "    df_merge  = df_merge.tail(df_merge.shape[0] -2)\n",
    "    df_merge  = df_merge.head(df_merge.shape[0] -2)\n",
    "    df_list.append(df_merge)\n",
    "\n",
    "df_merge = pd.concat(df_list).reset_index()\n",
    "df_merge = df_merge[~pd.isna(df_merge['framesPerSecond'])]"
   ]
  },
  {
   "cell_type": "code",
   "execution_count": 93,
   "id": "7d35ac4b-67a2-408f-a307-3e740b41bf0f",
   "metadata": {},
   "outputs": [],
   "source": [
    "from sklearn.metrics import mean_squared_error"
   ]
  },
  {
   "cell_type": "code",
   "execution_count": 111,
   "id": "fd908c9d-9c67-49ac-a01c-78a4a2b1c1aa",
   "metadata": {},
   "outputs": [
    {
     "name": "stdout",
     "output_type": "stream",
     "text": [
      "5.805327148780659\n",
      "2.7741232693794364\n"
     ]
    }
   ],
   "source": [
    "y_actual = df_merge[\"framesReceived\"].tolist()\n",
    "y_predict = df_merge[\"fps\"].tolist()\n",
    "y_actual1 = df_merge[\"framesPerSecond\"].tolist()\n",
    "print(mean_squared_error(y_actual, y_predict, squared=\"False\"))\n",
    "print(mean_squared_error(y_actual1, y_predict, squared=\"False\"))"
   ]
  },
  {
   "cell_type": "code",
   "execution_count": 105,
   "id": "59627a3d-1d37-42f6-92d1-7fe4f46a5ce8",
   "metadata": {},
   "outputs": [
    {
     "name": "stdout",
     "output_type": "stream",
     "text": [
      "14833\n"
     ]
    }
   ],
   "source": [
    "print(len(y_actual))"
   ]
  },
  {
   "cell_type": "code",
   "execution_count": null,
   "id": "9884f715-1d24-421c-9bed-d66b573f5426",
   "metadata": {},
   "outputs": [],
   "source": [
    "sns.scatterplot(data=df_merge, x=\"ts\", y=\"\")"
   ]
  },
  {
   "cell_type": "code",
   "execution_count": null,
   "id": "efd5345e-4f9d-4da7-b644-3dda0e8073b3",
   "metadata": {},
   "outputs": [],
   "source": [
    "file_map[k]['web]"
   ]
  },
  {
   "cell_type": "code",
   "execution_count": 58,
   "id": "93da36ae-bea4-43a4-b809-ff3fe790b444",
   "metadata": {},
   "outputs": [
    {
     "data": {
      "text/html": [
       "<div>\n",
       "<style scoped>\n",
       "    .dataframe tbody tr th:only-of-type {\n",
       "        vertical-align: middle;\n",
       "    }\n",
       "\n",
       "    .dataframe tbody tr th {\n",
       "        vertical-align: top;\n",
       "    }\n",
       "\n",
       "    .dataframe thead tr th {\n",
       "        text-align: left;\n",
       "    }\n",
       "\n",
       "    .dataframe thead tr:last-of-type th {\n",
       "        text-align: right;\n",
       "    }\n",
       "</style>\n",
       "<table border=\"1\" class=\"dataframe\">\n",
       "  <thead>\n",
       "    <tr>\n",
       "      <th></th>\n",
       "      <th>udp.length</th>\n",
       "      <th colspan=\"2\" halign=\"left\">frame.time_epoch</th>\n",
       "    </tr>\n",
       "    <tr>\n",
       "      <th></th>\n",
       "      <th>sum</th>\n",
       "      <th>min</th>\n",
       "      <th>max</th>\n",
       "    </tr>\n",
       "    <tr>\n",
       "      <th>rtp.timestamp</th>\n",
       "      <th></th>\n",
       "      <th></th>\n",
       "      <th></th>\n",
       "    </tr>\n",
       "  </thead>\n",
       "  <tbody>\n",
       "  </tbody>\n",
       "</table>\n",
       "</div>"
      ],
      "text/plain": [
       "Empty DataFrame\n",
       "Columns: [(udp.length, sum), (frame.time_epoch, min), (frame.time_epoch, max)]\n",
       "Index: []"
      ]
     },
     "execution_count": 58,
     "metadata": {},
     "output_type": "execute_result"
    }
   ],
   "source": [
    "df_video = df_net[df_net[\"rtp.p_type\"] == \"111\"]\n",
    "df_video.groupby(\"rtp.timestamp\").agg({\"udp.length\": \"sum\", \"frame.time_epoch\": [\"min\", \"max\"]})"
   ]
  },
  {
   "cell_type": "code",
   "execution_count": 41,
   "id": "a3542d8b-d03c-4bc6-9539-18fc9b8c7be2",
   "metadata": {},
   "outputs": [],
   "source": [
    "feature_map = {}\n",
    "audio_size = 100\n",
    "for k in file_map:\n",
    "    df_net = file_map[k]['pcap']\n",
    "    df_net = df_net[df_net['udp.length'] > audio_size]\n",
    "    df_stat = get_net_stats(df_net)\n",
    "    feature_map[k] = {}\n",
    "    feature_map[k]['pcap'] = df_stat\n",
    "    feature_map[k]['webrtc'] = file_map[k]['webrtc']"
   ]
  },
  {
   "cell_type": "code",
   "execution_count": 42,
   "id": "9e09a884-cab5-401f-831b-b672548e4d73",
   "metadata": {},
   "outputs": [],
   "source": [
    "df_list = []\n",
    "for filename in feature_map:\n",
    "    df_all = feature_map[filename][\"webrtc\"]\n",
    "    df1 = feature_map[filename][\"pcap\"]\n",
    "    #print(df1[\"time_win\"].max() - df1[\"time_win\"].min(), df_all[\"ts\"].max() - df_all[\"ts\"].min())\n",
    "    df_merge = pd.merge(df_all, df1, left_on=\"ts\", right_on=\"time_win\")\n",
    "    df_merge[\"filename\"] = filename\n",
    "    df_list.append(df_merge)\n",
    "df_merge = pd.concat(df_list).reset_index()"
   ]
  },
  {
   "cell_type": "code",
   "execution_count": 44,
   "id": "42316566-4510-4fee-9826-0a7bcdae28c3",
   "metadata": {},
   "outputs": [],
   "source": [
    "cols_x = ['bitrate_kbps', 'pktrate_pps',\n",
    "       'size_min', 'size_max', 'size_mean', 'size_std', 'size_q1', 'size_q2',\n",
    "       'size_q3', 'iat_min', 'iat_max', 'iat_mean', 'iat_std', 'iat_q1',\n",
    "       'iat_q2', 'iat_q3']\n",
    "\n",
    "cols_y = ['framesPerSecond', '[bytesReceived_in_bits/s]', 'freezeCount*', 'totalFreezesDuration*']\n",
    "df_small = df_merge[cols_x + cols_y]"
   ]
  },
  {
   "cell_type": "code",
   "execution_count": 46,
   "id": "b2852d32-6771-4395-af2f-a12865a795a9",
   "metadata": {},
   "outputs": [
    {
     "data": {
      "text/plain": [
       "(14835,)"
      ]
     },
     "execution_count": 46,
     "metadata": {},
     "output_type": "execute_result"
    }
   ],
   "source": [
    "df_small['bitrate_kbps'].shape"
   ]
  },
  {
   "cell_type": "code",
   "execution_count": 48,
   "id": "8667565d-e452-4a8b-84e6-d9ce782a09c5",
   "metadata": {},
   "outputs": [
    {
     "data": {
      "text/plain": [
       "(0.0, 1245.65)"
      ]
     },
     "execution_count": 48,
     "metadata": {},
     "output_type": "execute_result"
    },
    {
     "data": {
      "image/png": "[encoded data removed]",
      "text/plain": [
       "<Figure size 432x288 with 1 Axes>"
      ]
     },
     "metadata": {
      "needs_background": "light"
     },
     "output_type": "display_data"
    }
   ],
   "source": [
    "sns.ecdfplot(df_small[\"size_q2\"])\n",
    "plt.xlim(xmin=0)"
   ]
  },
  {
   "cell_type": "code",
   "execution_count": 45,
   "id": "1d08909f-6dfd-4407-8229-bfbd3ee4acb6",
   "metadata": {},
   "outputs": [
    {
     "name": "stdout",
     "output_type": "stream",
     "text": [
      "framesPerSecond: Average score: -2.128873364359706 and Std dev: 0.3644806359023766\n",
      "[bytesReceived_in_bits/s]: Average score: -44365.05892680508 and Std dev: 5912.062925823021\n",
      "freezeCount*: Average score: -0.20953376060917406 and Std dev: 0.025870749292422005\n",
      "totalFreezesDuration*: Average score: -0.14645999899643627 and Std dev: 0.09990428826875998\n"
     ]
    }
   ],
   "source": [
    "from sklearn.ensemble import RandomForestRegressor\n",
    "from sklearn.model_selection import cross_val_score\n",
    "\n",
    "\n",
    "for col_y in cols_y:\n",
    "    df_small = df_small[~pd.isna(df_small[col_y])]\n",
    "    X = df_small[cols_x].to_numpy()\n",
    "    y = df_small[col_y]\n",
    "    regr = RandomForestRegressor(max_depth=5, random_state=0)\n",
    "    scores = cross_val_score(regr, X, y, scoring='neg_root_mean_squared_error', cv=5)\n",
    "    print(f\"{col_y}: Average score: {scores.mean()} and Std dev: {scores.std()}\")"
   ]
  },
  {
   "cell_type": "code",
   "execution_count": 22,
   "id": "2cfa4bb2-2650-4e86-9d0e-4b91c5f72946",
   "metadata": {},
   "outputs": [
    {
     "data": {
      "text/plain": [
       "<AxesSubplot:xlabel='udp.length', ylabel='Proportion'>"
      ]
     },
     "execution_count": 22,
     "metadata": {},
     "output_type": "execute_result"
    },
    {
     "data": {
      "image/png": "[encoded data removed]",
      "text/plain": [
       "<Figure size 432x288 with 1 Axes>"
      ]
     },
     "metadata": {
      "needs_background": "light"
     },
     "output_type": "display_data"
    }
   ],
   "source": [
    "sns.ecdfplot(data=df_grp, x=\"udp.length\", hue=\"rtp.p_type\")"
   ]
  },
  {
   "cell_type": "code",
   "execution_count": 31,
   "id": "612343a0-5855-4809-907b-6ab2748d0316",
   "metadata": {},
   "outputs": [
    {
     "data": {
      "text/plain": [
       "count    86509.000000\n",
       "mean        70.906229\n",
       "std         19.059969\n",
       "min         51.000000\n",
       "5%          51.000000\n",
       "10%         51.000000\n",
       "25%         51.000000\n",
       "50%         82.000000\n",
       "75%         82.000000\n",
       "90%         98.000000\n",
       "95%         98.000000\n",
       "99%         98.000000\n",
       "max        120.000000\n",
       "Name: udp.length, dtype: float64"
      ]
     },
     "execution_count": 31,
     "metadata": {},
     "output_type": "execute_result"
    }
   ],
   "source": [
    "df_net2 = df_net1[df_net1['rtp.p_type'] == '111']\n",
    "df_net2['udp.length'].describe(percentiles=[0.05,0.10,0.25,0.50,0.75,0.90,0.95,0.99])"
   ]
  },
  {
   "cell_type": "code",
   "execution_count": 34,
   "id": "2ca26a72-e49e-4d3d-8d24-d500372f3dfc",
   "metadata": {},
   "outputs": [
    {
     "data": {
      "text/plain": [
       "count    729672.000000\n",
       "mean        941.641510\n",
       "std         210.244051\n",
       "min          92.000000\n",
       "0.1%        150.000000\n",
       "5%          590.000000\n",
       "10%         673.000000\n",
       "25%         798.000000\n",
       "50%        1005.000000\n",
       "75%        1105.000000\n",
       "90%        1167.000000\n",
       "95%        1191.000000\n",
       "99%        1211.000000\n",
       "max        1232.000000\n",
       "Name: udp.length, dtype: float64"
      ]
     },
     "execution_count": 34,
     "metadata": {},
     "output_type": "execute_result"
    }
   ],
   "source": [
    "df_net2 = df_net1[df_net1['rtp.p_type'] == '98']\n",
    "df_net2['udp.length'].describe(percentiles=[0.001, 0.05,0.10,0.25,0.50,0.75,0.90,0.95,0.99])"
   ]
  },
  {
   "cell_type": "code",
   "execution_count": null,
   "id": "3c76f557-8bfd-4381-9cdc-0b886fc9a080",
   "metadata": {},
   "outputs": [],
   "source": []
  }
 ],
 "metadata": {
  "kernelspec": {
   "display_name": "Python 3 (ipykernel)",
   "language": "python",
   "name": "python3"
  },
  "language_info": {
   "codemirror_mode": {
    "name": "ipython",
    "version": 3
   },
   "file_extension": ".py",
   "mimetype": "text/x-python",
   "name": "python",
   "nbconvert_exporter": "python",
   "pygments_lexer": "ipython3",
   "version": "3.8.10"
  }
 },
 "nbformat": 4,
 "nbformat_minor": 5
}
