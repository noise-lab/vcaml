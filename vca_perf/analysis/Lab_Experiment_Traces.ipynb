{
 "cells": [
  {
   "cell_type": "code",
   "execution_count": 1,
   "id": "0c351c55-701e-4223-acf2-f2faf4e23cee",
   "metadata": {},
   "outputs": [],
   "source": [
    "import os\n",
    "import numpy as np\n",
    "import pandas as pd\n",
    "from glob import glob\n",
    "trace_folder = '/home/tarun/public/traces_imc'"
   ]
  },
  {
   "cell_type": "code",
   "execution_count": 64,
   "id": "e51bb83a-132d-4e22-b5e2-1f5b43aa90d6",
   "metadata": {},
   "outputs": [],
   "source": [
    "traces = []\n",
    "for tf in glob(f'{trace_folder}/*.csv'):\n",
    "    traces.append(tf)"
   ]
  },
  {
   "cell_type": "code",
   "execution_count": 65,
   "id": "cd39a498-7e44-40fe-a492-b36906c77b82",
   "metadata": {},
   "outputs": [
    {
     "name": "stdout",
     "output_type": "stream",
     "text": [
      "2000\n"
     ]
    }
   ],
   "source": [
    "print(len(set(traces)))"
   ]
  },
  {
   "cell_type": "code",
   "execution_count": 66,
   "id": "569249c1-8cfd-4100-8f60-38ab93ad893a",
   "metadata": {},
   "outputs": [],
   "source": [
    "traces = np.array(list(set(traces)))"
   ]
  },
  {
   "cell_type": "code",
   "execution_count": 67,
   "id": "d70fb8d2-80a2-4e03-81a8-76330057058c",
   "metadata": {},
   "outputs": [],
   "source": [
    "selected_traces = np.random.choice(a=traces, size=300, replace=False)"
   ]
  },
  {
   "cell_type": "code",
   "execution_count": 68,
   "id": "55269d3b-65fc-42d2-8b7f-7295bcf8b3f2",
   "metadata": {},
   "outputs": [
    {
     "data": {
      "text/plain": [
       "(300,)"
      ]
     },
     "execution_count": 68,
     "metadata": {},
     "output_type": "execute_result"
    }
   ],
   "source": [
    "selected_traces.shape"
   ]
  },
  {
   "cell_type": "code",
   "execution_count": 69,
   "id": "a8eaae96-51c1-4642-b47b-49d6acef857b",
   "metadata": {},
   "outputs": [
    {
     "name": "stdout",
     "output_type": "stream",
     "text": [
      "300\n"
     ]
    }
   ],
   "source": [
    "print(len(set(selected_traces)))"
   ]
  },
  {
   "cell_type": "code",
   "execution_count": 14,
   "id": "4dcd492a-1756-4245-a58a-a57160ba41be",
   "metadata": {},
   "outputs": [],
   "source": [
    "dest = '/home/taveesh/Documents/Projects/vca-qoe-inference/data/imc_lab_traces'\n",
    "# for t in selected_traces:\n",
    "#     os.system(f'cp {t} {dest}')"
   ]
  },
  {
   "cell_type": "code",
   "execution_count": 72,
   "id": "853d7698-6c05-454b-ac45-2661245d1222",
   "metadata": {},
   "outputs": [],
   "source": [
    "idx = 1\n",
    "for trace in glob(f'{dest}/*.csv'):\n",
    "    new_name = trace[:-4] + f'_{idx}.csv'\n",
    "    os.rename(trace, f'{new_name}')\n",
    "    idx += 1"
   ]
  },
  {
   "cell_type": "code",
   "execution_count": 85,
   "id": "39170ba4-fe60-4d4c-9672-fb3842ab44a6",
   "metadata": {},
   "outputs": [],
   "source": [
    "data = []\n",
    "for trace in glob(f'{dest}/*.csv'):\n",
    "    df = pd.read_csv(trace, names=['tput', 'lat', 'loss'])\n",
    "    df['trace'] = trace\n",
    "    data.append(df)"
   ]
  },
  {
   "cell_type": "code",
   "execution_count": 86,
   "id": "d1c25656-6c87-40c9-bc48-ecaf34c1320c",
   "metadata": {},
   "outputs": [],
   "source": [
    "df = pd.concat(data, axis=0)\n",
    "import seaborn as sns\n",
    "import matplotlib.pyplot as plt"
   ]
  },
  {
   "cell_type": "code",
   "execution_count": 87,
   "id": "5894d908-048c-4187-9603-de6e08fd636a",
   "metadata": {},
   "outputs": [
    {
     "data": {
      "text/plain": [
       "(13067, 4)"
      ]
     },
     "execution_count": 87,
     "metadata": {},
     "output_type": "execute_result"
    }
   ],
   "source": [
    "df.shape"
   ]
  },
  {
   "cell_type": "code",
   "execution_count": 89,
   "id": "f6651ca9-5873-42c5-937b-1c4fe0538edd",
   "metadata": {},
   "outputs": [],
   "source": [
    "dft = df.groupby('trace').agg({'tput': len}).reset_index()"
   ]
  },
  {
   "cell_type": "code",
   "execution_count": 26,
   "id": "45554183-dd5d-43e9-8a5b-6cdb72eb8768",
   "metadata": {},
   "outputs": [],
   "source": [
    "import os\n",
    "data1 = []\n",
    "data2 = []\n",
    "dpath = '/home/taveesh/Desktop/imc_meet_traces'\n",
    "for trace in glob(f'{dest}/*'):\n",
    "    bname = os.path.basename(trace)\n",
    "    df = pd.read_csv(trace, header=None)\n",
    "    data1.append(df.iloc[:30])\n",
    "    df.iloc[:30].to_csv(f'{dpath}/{bname}', index=False, header=False)\n",
    "    data2.append(df)\n",
    "df1 = pd.concat(data1, axis=0)\n",
    "df2 = pd.concat(data2, axis=0)"
   ]
  },
  {
   "cell_type": "code",
   "execution_count": 27,
   "id": "8dc498f1-7d88-4ec2-a92c-4875f7f0c592",
   "metadata": {},
   "outputs": [
    {
     "name": "stdout",
     "output_type": "stream",
     "text": [
      "(8983, 3)\n",
      "(13067, 3)\n"
     ]
    }
   ],
   "source": [
    "print(df1.shape)\n",
    "print(df2.shape)"
   ]
  }
 ],
 "metadata": {
  "kernelspec": {
   "display_name": "Python 3 (ipykernel)",
   "language": "python",
   "name": "python3"
  },
  "language_info": {
   "codemirror_mode": {
    "name": "ipython",
    "version": 3
   },
   "file_extension": ".py",
   "mimetype": "text/x-python",
   "name": "python",
   "nbconvert_exporter": "python",
   "pygments_lexer": "ipython3",
   "version": "3.8.10"
  }
 },
 "nbformat": 4,
 "nbformat_minor": 5
}
