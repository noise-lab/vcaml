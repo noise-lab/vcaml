{
 "cells": [
  {
   "cell_type": "code",
   "execution_count": 8,
   "metadata": {},
   "outputs": [],
   "source": [
    "import os, sys\n",
    "import pandas as pd\n",
    "import pickle\n",
    "from os.path import dirname, abspath\n",
    "d = os.path.abspath(os.path.join('..'))\n",
    "sys.path.append(d)\n",
    "from sklearn.metrics import mean_absolute_error\n",
    "from sklearn import tree\n",
    "import seaborn as sns\n",
    "import matplotlib\n",
    "matplotlib.rcParams.update({'font.size': 8, 'figure.figsize' : [1.5*3.125, 1.5*1.5],\n",
    "                           'legend.fontsize': 10, 'legend.fancybox': True,\n",
    "                           'font.family': 'serif', 'font.sans-serif': 'Times',\n",
    "                            'xtick.major.width': 0.2, 'xtick.minor.width': 2*0.2,\n",
    "                            'ytick.major.width': 0.2, 'ytick.minor.width': 2*0.2,\n",
    "                            'text.usetex': False, 'axes.labelsize': 7*2\n",
    "                           })\n",
    "matplotlib.rcParams['pdf.fonttype'] = 42\n",
    "matplotlib.rcParams['ps.fonttype'] = 42\n",
    "import matplotlib.pyplot as plt\n",
    "import numpy as np\n",
    "import re\n",
    "from glob import glob\n",
    "import zipfile\n",
    "from io import TextIOWrapper\n",
    "\n"
   ]
  },
  {
   "cell_type": "code",
   "execution_count": 9,
   "metadata": {},
   "outputs": [],
   "source": [
    "%run \"../../vca_perf/util/webrtc_reader.py\""
   ]
  },
  {
   "cell_type": "markdown",
   "metadata": {
    "tags": []
   },
   "source": [
    "# Extraction Logic"
   ]
  },
  {
   "cell_type": "code",
   "execution_count": 3,
   "metadata": {},
   "outputs": [],
   "source": [
    "project_config = {\"is_string\": 1, \"webrtc_format\": 2}\n",
    "def check_log(input_zip):\n",
    "    for name in input_zip.namelist():\n",
    "        if \"log\" not in name:\n",
    "            continue\n",
    "        lines = TextIOWrapper(input_zip.open(name))\n",
    "        for line in lines:\n",
    "            if \"Webrtc content\" in line:\n",
    "                substr = line[line.find(\"{\"): -1].replace(\"'\", '\"')\n",
    "                json_obj = json.loads(substr)\n",
    "                if \"call_duration\" not in json_obj:\n",
    "                    return 1\n",
    "                else:\n",
    "                    return 0\n",
    "\n",
    "def get_mean_qoe(input_zip):                  \n",
    "    for name in input_zip.namelist():\n",
    "        if \"json\" not in name:\n",
    "            continue\n",
    "        webrtc_reader = WebRTCReader(name, dataset=\"netrics_data\")\n",
    "        df_webrtc = webrtc_reader.get_webrtc()\n",
    "        #print(df_webrtc.columns)\n",
    "        if df_webrtc.empty:\n",
    "            return -1\n",
    "        return df_webrtc[\"framesReceivedPerSecond\"].mean(), df_webrtc[\"bitrate\"].mean(), df_webrtc[\"frameHeight\"].mean(), df_webrtc[\"frame_jitter\"].mean()\n"
   ]
  },
  {
   "cell_type": "code",
   "execution_count": 4,
   "metadata": {
    "tags": []
   },
   "outputs": [],
   "source": [
    "data_dir = \"/scratch/datasets/broadband/dev1/nm-exp-active-netrics/data/s3/sync/netrics_mngd/nm-exp-active-netrics/beta/\"\n",
    "devices = [x for x in glob(f\"{data_dir}/*\")]#[\"nm-mngd-20210518-f9511f7a\", \"nm-mngd-20210518-f2242dfd\", \"nm-mngd-20210518-c22d980b\"]\n",
    "device_ids = [os.path.basename(x) for x in glob(f\"{data_dir}/*\")]\n",
    "for i in range(len(devices)):\n",
    "    if not os.path.exists(f\"/scratch/datasets/vcqoe/13May/{device_ids[i]}/\"):\n",
    "        os.mkdir(f\"/scratch/datasets/vcqoe/13May/{device_ids[i]}/\")"
   ]
  },
  {
   "cell_type": "code",
   "execution_count": 5,
   "metadata": {},
   "outputs": [],
   "source": [
    "dates = ['20230513', '20230514', '20230515', '20230516']"
   ]
  },
  {
   "cell_type": "code",
   "execution_count": 6,
   "metadata": {},
   "outputs": [],
   "source": [
    "# data_dir = \"/home/taveesh/vca-qoe-inference/data/netrics_data\"\n",
    "log = {}\n",
    "for device in device_ids:\n",
    "    log[device] = {\"total\": 0, \"corrupt\": 0, \"failed\": 0}\n",
    "    for d in dates:\n",
    "        files = glob(f'{data_dir}/{device}/{d}*/zip/*vca*.zip')\n",
    "        for file in files:\n",
    "            os.system(f\"cp {file} /scratch/datasets/vcqoe/13May/{device}/\")\n",
    "            log[device][\"total\"] += 1\n",
    "            try:\n",
    "                input_zip= zipfile.ZipFile(file)\n",
    "            except:\n",
    "                log[device][\"corrupt\"] += 1\n",
    "                continue\n",
    "            log[device][\"failed\"] += check_log(input_zip)\n",
    "            zipfile.ZipFile(file).extractall(f\"/scratch/datasets/vcqoe/13May/{device}/extract\")\n",
    "#         print(get_mean_qoe(input_zip))\n",
    "        #extractiondir = f'{path}/extract'\n",
    "\n",
    "#zip = zipfile.ZipFile(zipfilepath)\n",
    "#zip.extractall(path=extractiondir)"
   ]
  },
  {
   "cell_type": "code",
   "execution_count": 7,
   "metadata": {
    "tags": []
   },
   "outputs": [
    {
     "name": "stdout",
     "output_type": "stream",
     "text": [
      "nm-mngd-20220914-164dbe45\n",
      "nm-mngd-20210518-075ab2f0\n",
      "nm-mngd-20210518-6df15aaf\n",
      "{'total': 145, 'corrupt': 0, 'failed': 63}\n",
      "nm-mngd-20210518-28abe768\n",
      "{'total': 89, 'corrupt': 0, 'failed': 36}\n",
      "nm-mngd-20210518-0ca06c37\n",
      "nm-mngd-20220628-07c02d28\n",
      "nm-mngd-20221025-e7ab17cc\n",
      "{'total': 47, 'corrupt': 0, 'failed': 10}\n",
      "nm-mngd-20230306-abd14991\n",
      "nm-mngd-20210518-005bb669\n",
      "{'total': 103, 'corrupt': 0, 'failed': 25}\n",
      "nm-mngd-20230202-e731ce2c\n",
      "nm-mngd-20221108-938caf46\n",
      "nm-mngd-20230306-4d5274ae\n",
      "nm-mngd-20210621-2d29599c\n",
      "nm-mngd-20210518-221fcce5\n",
      "nm-mngd-20230306-e232fab7\n",
      "nm-mngd-20230306-0f628bf2\n",
      "nm-mngd-20210518-f2242dfd\n",
      "{'total': 99, 'corrupt': 0, 'failed': 28}\n",
      "nm-mngd-20210518-19941862\n",
      "nm-mngd-20210518-f9511f7a\n",
      "{'total': 59, 'corrupt': 0, 'failed': 16}\n",
      "nm-mngd-20221017-a79b4ff5\n",
      "nm-mngd-20210519-84594993\n",
      "{'total': 59, 'corrupt': 0, 'failed': 8}\n",
      "nm-mngd-20210518-c22d980b\n",
      "{'total': 48, 'corrupt': 0, 'failed': 3}\n",
      "README\n",
      "nm-mngd-20220914-9d4c196c\n",
      "nm-mngd-20210511-9d9824d4\n",
      "{'total': 144, 'corrupt': 0, 'failed': 58}\n",
      "nm-mngd-20210623-d9aab537\n",
      "nm-mngd-20230306-1e3b6c4c\n",
      "{'total': 72, 'corrupt': 0, 'failed': 9}\n",
      "nm-mngd-20221025-ff274014\n",
      "nm-mngd-20230306-651e7d3e\n",
      "nm-mngd-20221108-f469ba27\n",
      "{'total': 143, 'corrupt': 0, 'failed': 26}\n",
      "nm-mngd-20210623-1b49a7fa\n",
      "nm-mngd-20210519-ee6bcbb8\n",
      "{'total': 8, 'corrupt': 0, 'failed': 3}\n",
      "nm-mngd-20210518-a312bf95\n",
      "731\n"
     ]
    }
   ],
   "source": [
    "s = 0\n",
    "for x in log:\n",
    "    print(x)\n",
    "    if log[x]['total'] > 0:\n",
    "        print(log[x])\n",
    "        s += (log[x]['total'] - log[x]['failed'] - log[x]['corrupt'])\n",
    "print(s)"
   ]
  }
 ],
 "metadata": {
  "kernelspec": {
   "display_name": "Python 3",
   "language": "python",
   "name": "python3"
  },
  "language_info": {
   "codemirror_mode": {
    "name": "ipython",
    "version": 3
   },
   "file_extension": ".py",
   "mimetype": "text/x-python",
   "name": "python",
   "nbconvert_exporter": "python",
   "pygments_lexer": "ipython3",
   "version": "3.6.8"
  }
 },
 "nbformat": 4,
 "nbformat_minor": 4
}
