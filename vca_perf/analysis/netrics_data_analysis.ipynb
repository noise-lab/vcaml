{
 "cells": [
  {
   "cell_type": "code",
   "execution_count": 1,
   "id": "5ca7a7a0-8baf-423d-8ded-152967717a37",
   "metadata": {},
   "outputs": [],
   "source": [
    "import os, sys\n",
    "import pandas as pd\n",
    "import pickle\n",
    "from os.path import dirname, abspath\n",
    "d = os.path.abspath(os.path.join('..'))\n",
    "sys.path.append(d)\n",
    "from model_trial import Experiment\n",
    "from util.file_processor import FileProcessor\n",
    "from sklearn.metrics import mean_absolute_error\n",
    "from sklearn import tree\n",
    "import seaborn as sns\n",
    "import matplotlib\n",
    "matplotlib.rcParams.update({'font.size': 8, 'figure.figsize' : [1.5*3.125, 1.5*1.5],\n",
    "                           'legend.fontsize': 10, 'legend.fancybox': True,\n",
    "                           'font.family': 'serif', 'font.sans-serif': 'Times',\n",
    "                            'xtick.major.width': 0.2, 'xtick.minor.width': 2*0.2,\n",
    "                            'ytick.major.width': 0.2, 'ytick.minor.width': 2*0.2,\n",
    "                            'text.usetex': False, 'axes.labelsize': 7*2\n",
    "                           })\n",
    "matplotlib.rcParams['pdf.fonttype'] = 42\n",
    "matplotlib.rcParams['ps.fonttype'] = 42\n",
    "import matplotlib.pyplot as plt\n",
    "import numpy as np\n",
    "import re\n",
    "import graphviz\n",
    "import pathlib"
   ]
  },
  {
   "cell_type": "code",
   "execution_count": 2,
   "id": "65caf0bd-017d-4be2-aca6-bfa3bed2a340",
   "metadata": {},
   "outputs": [],
   "source": [
    "%run '../util/webrtc_reader.py'\n",
    "%run '../util/helper_functions.py'\n",
    "%run '../util/pcap2csv.py'"
   ]
  },
  {
   "cell_type": "code",
   "execution_count": 3,
   "id": "4476330e-6f3f-4f8e-8cfb-9cee0173c0a5",
   "metadata": {},
   "outputs": [],
   "source": [
    "data_dir = \"../../data/netrics_beta\""
   ]
  },
  {
   "cell_type": "code",
   "execution_count": 47,
   "id": "6f1b1b02-31b3-499a-bc60-824739550da1",
   "metadata": {},
   "outputs": [],
   "source": [
    "def get_file_tuples():\n",
    "    ls = []\n",
    "    for f in os.listdir(f'{data_dir}'):\n",
    "        p = f'{data_dir}/{f}/tmp/Data'\n",
    "        vca = os.listdir(p)[0]\n",
    "        print(p)\n",
    "        # convert(f'{p}/{vca}')\n",
    "        try:\n",
    "            pcap = [x for x in os.listdir(f'{p}/{vca}') if x.endswith('.pcap')][0]\n",
    "            pcap = f'{p}/{vca}/{pcap}'\n",
    "        except IndexError:\n",
    "            print(f'PCAP file missing for {p}/{vca}')\n",
    "        try:\n",
    "            csv = [x for x in os.listdir(f'{p}/{vca}') if x.endswith('.csv')][0]\n",
    "            csv = f'{p}/{vca}/{csv}'\n",
    "        except IndexError:\n",
    "            print(f'CSV file missing for {p}/{vca}')\n",
    "        try:\n",
    "            webrtc = [x for x in os.listdir(f'{p}/{vca}') if x.endswith('.json')][0]\n",
    "            webrtc = f'{p}/{vca}/{webrtc}'\n",
    "        except IndexError:\n",
    "            print(f'WebRTC file missing for {p}/{vca}')\n",
    "        ls.append((pcap, csv, webrtc))\n",
    "    return ls\n",
    "\n",
    "def get_webrtc_df(f):\n",
    "    rdr = WebRTCReader(f)\n",
    "    return rdr.get_webrtc()"
   ]
  },
  {
   "cell_type": "code",
   "execution_count": 48,
   "id": "938d2a2b-6459-4d67-a41a-0e69f76bf746",
   "metadata": {
    "tags": []
   },
   "outputs": [
    {
     "name": "stdout",
     "output_type": "stream",
     "text": [
      "../../data/netrics_beta/nm_data_20230418_140831_vca_qoe_extra/tmp/Data\n",
      "../../data/netrics_beta/nm_data_20230418_100826_vca_qoe_extra/tmp/Data\n",
      "../../data/netrics_beta/nm_data_20230418_043846_vca_qoe_extra/tmp/Data\n",
      "../../data/netrics_beta/nm_data_20230418_020825_vca_qoe_extra/tmp/Data\n",
      "../../data/netrics_beta/nm_data_20230418_040826_vca_qoe_extra/tmp/Data\n",
      "../../data/netrics_beta/nm_data_20230418_093847_vca_qoe_extra/tmp/Data\n",
      "../../data/netrics_beta/nm_data_20230418_060825_vca_qoe_extra/tmp/Data\n",
      "../../data/netrics_beta/nm_data_20230418_080830_vca_qoe_extra/tmp/Data\n",
      "../../data/netrics_beta/nm_data_20230418_003847_vca_qoe_extra/tmp/Data\n",
      "../../data/netrics_beta/nm_data_20230418_023847_vca_qoe_extra/tmp/Data\n",
      "../../data/netrics_beta/nm_data_20230418_000825_vca_qoe_extra/tmp/Data\n",
      "../../data/netrics_beta/nm_data_20230418_123846_vca_qoe_extra/tmp/Data\n",
      "../../data/netrics_beta/nm_data_20230418_090824_vca_qoe_extra/tmp/Data\n",
      "../../data/netrics_beta/nm_data_20230418_073847_vca_qoe_extra/tmp/Data\n",
      "WebRTC file missing for ../../data/netrics_beta/nm_data_20230418_073847_vca_qoe_extra/tmp/Data/teams\n",
      "../../data/netrics_beta/nm_data_20230418_050824_vca_qoe_extra/tmp/Data\n",
      "../../data/netrics_beta/nm_data_20230418_063846_vca_qoe_extra/tmp/Data\n",
      "../../data/netrics_beta/nm_data_20230418_083847_vca_qoe_extra/tmp/Data\n",
      "../../data/netrics_beta/nm_data_20230418_030840_vca_qoe_extra/tmp/Data\n",
      "../../data/netrics_beta/nm_data_20230418_130825_vca_qoe_extra/tmp/Data\n",
      "../../data/netrics_beta/nm_data_20230418_110824_vca_qoe_extra/tmp/Data\n",
      "../../data/netrics_beta/nm_data_20230418_113846_vca_qoe_extra/tmp/Data\n",
      "../../data/netrics_beta/nm_data_20230418_033951_vca_qoe_extra/tmp/Data\n",
      "../../data/netrics_beta/nm_data_20230418_053847_vca_qoe_extra/tmp/Data\n",
      "../../data/netrics_beta/nm_data_20230418_133849_vca_qoe_extra/tmp/Data\n",
      "../../data/netrics_beta/nm_data_20230418_120825_vca_qoe_extra/tmp/Data\n",
      "../../data/netrics_beta/nm_data_20230418_103847_vca_qoe_extra/tmp/Data\n",
      "../../data/netrics_beta/nm_data_20230418_010829_vca_qoe_extra/tmp/Data\n",
      "../../data/netrics_beta/nm_data_20230418_013846_vca_qoe_extra/tmp/Data\n",
      "../../data/netrics_beta/nm_data_20230418_070829_vca_qoe_extra/tmp/Data\n"
     ]
    }
   ],
   "source": [
    "files = get_file_tuples()"
   ]
  },
  {
   "cell_type": "code",
   "execution_count": 58,
   "id": "8aef71f8-fde1-4f96-adaa-6bfdbffdd751",
   "metadata": {},
   "outputs": [
    {
     "name": "stdout",
     "output_type": "stream",
     "text": [
      "meet Duration > Num Vals ../../data/netrics_beta/nm_data_20230418_100826_vca_qoe_extra/tmp/Data/meet/client-meet-1681812425.json 6.022000074386597\n",
      "teams Duration > Num Vals ../../data/netrics_beta/nm_data_20230418_093847_vca_qoe_extra/tmp/Data/teams/client-teams-1681810625.json 2.9769999980926514\n",
      "teams Duration > Num Vals ../../data/netrics_beta/nm_data_20230418_023847_vca_qoe_extra/tmp/Data/teams/client-teams-1681785425.json 4.664000034332275\n",
      "teams Duration > Num Vals ../../data/netrics_beta/nm_data_20230418_113846_vca_qoe_extra/tmp/Data/teams/client-teams-1681817825.json 4.270999908447266\n",
      "teams Duration > Num Vals ../../data/netrics_beta/nm_data_20230418_033951_vca_qoe_extra/tmp/Data/teams/client-teams-1681789090.json 3.2350001335144043\n",
      "no inbound stream\n",
      "../../data/netrics_beta/nm_data_20230418_053847_vca_qoe_extra/tmp/Data/teams/client-teams-1681796226.json\n",
      "teams Duration > Num Vals ../../data/netrics_beta/nm_data_20230418_133849_vca_qoe_extra/tmp/Data/teams/client-teams-1681825028.json 4.11299991607666\n",
      "no inbound stream\n",
      "../../data/netrics_beta/nm_data_20230418_010829_vca_qoe_extra/tmp/Data/meet/client-meet-1681780025.json\n",
      "teams Duration > Num Vals ../../data/netrics_beta/nm_data_20230418_013846_vca_qoe_extra/tmp/Data/teams/client-teams-1681781825.json 3.309000015258789\n"
     ]
    },
    {
     "data": {
      "image/png": "[encoded data removed]",
      "text/plain": [
       "<Figure size 468.75x225 with 1 Axes>"
      ]
     },
     "metadata": {},
     "output_type": "display_data"
    }
   ],
   "source": [
    "web_dfs = []\n",
    "test_dfs = {'file': [], 'status': []}\n",
    "for f in files:\n",
    "    test_dfs['file'].append(f[2])\n",
    "    if not os.path.exists(f[2]):\n",
    "        test_dfs['status'].append('No WebRTC file found')\n",
    "        continue\n",
    "    df = get_webrtc_df(f[2])\n",
    "    if len(df) == 0:\n",
    "        print(f[2])\n",
    "        test_dfs['status'].append('No inbound stream in WebRTC')\n",
    "        continue\n",
    "    df['pcap_file'] = f[0]\n",
    "    df['csv_file'] = f[1]\n",
    "    df['webrtc_file'] = f[2]\n",
    "    if 'meet' in f[2]:\n",
    "        vca = 'meet'\n",
    "    elif 'teams' in f[2]:\n",
    "        vca = 'teams'\n",
    "    if int(df['duration'].max()) > df['num_vals'].max():\n",
    "        print(vca, 'Duration > Num Vals', f[2], df['duration'].max() - df['num_vals'].max())\n",
    "        test_dfs['status'].append('Duration > Number of FPS values')\n",
    "        continue\n",
    "    test_dfs['status'].append('Valid VCA test')\n",
    "    df['vca'] = vca\n",
    "    web_dfs.append(df)\n",
    "df = pd.concat(web_dfs, axis=0)\n",
    "tdf = pd.DataFrame(test_dfs)\n",
    "tdf['status'].value_counts().plot.bar(rot=45)\n",
    "plt.grid(visible=1)"
   ]
  },
  {
   "cell_type": "code",
   "execution_count": 57,
   "id": "51560979-8366-4cfa-938e-1f822aeb8882",
   "metadata": {},
   "outputs": [
    {
     "data": {
      "text/plain": [
       "Valid VCA test                     20\n",
       "Duration > Number of FPS values     7\n",
       "No inbound stream in WebRTC         2\n",
       "Name: status, dtype: int64"
      ]
     },
     "execution_count": 57,
     "metadata": {},
     "output_type": "execute_result"
    }
   ],
   "source": [
    "tdf['status'].value_counts()"
   ]
  },
  {
   "cell_type": "code",
   "execution_count": 7,
   "id": "fa5881fd-7eb1-48f7-a3b9-df2ff6c16f31",
   "metadata": {},
   "outputs": [
    {
     "data": {
      "text/html": [
       "<div>\n",
       "<style scoped>\n",
       "    .dataframe tbody tr th:only-of-type {\n",
       "        vertical-align: middle;\n",
       "    }\n",
       "\n",
       "    .dataframe tbody tr th {\n",
       "        vertical-align: top;\n",
       "    }\n",
       "\n",
       "    .dataframe thead th {\n",
       "        text-align: right;\n",
       "    }\n",
       "</style>\n",
       "<table border=\"1\" class=\"dataframe\">\n",
       "  <thead>\n",
       "    <tr style=\"text-align: right;\">\n",
       "      <th></th>\n",
       "      <th>ts</th>\n",
       "      <th>ssrc</th>\n",
       "      <th>lastPacketReceivedTimestamp</th>\n",
       "      <th>framesPerSecond</th>\n",
       "      <th>bitrate</th>\n",
       "      <th>[codec]</th>\n",
       "      <th>packetsLost</th>\n",
       "      <th>framesDropped</th>\n",
       "      <th>framesReceived</th>\n",
       "      <th>framesReceivedPerSecond</th>\n",
       "      <th>...</th>\n",
       "      <th>framesDecodedPerSecond</th>\n",
       "      <th>jitterBufferEmittedCount</th>\n",
       "      <th>frameHeight</th>\n",
       "      <th>qpSum</th>\n",
       "      <th>duration</th>\n",
       "      <th>num_vals</th>\n",
       "      <th>pcap_file</th>\n",
       "      <th>csv_file</th>\n",
       "      <th>webrtc_file</th>\n",
       "      <th>vca</th>\n",
       "    </tr>\n",
       "  </thead>\n",
       "  <tbody>\n",
       "    <tr>\n",
       "      <th>0</th>\n",
       "      <td>1681826878</td>\n",
       "      <td>2953878905</td>\n",
       "      <td>1.681827e+12</td>\n",
       "      <td>NaN</td>\n",
       "      <td>0.000000e+00</td>\n",
       "      <td>NaN</td>\n",
       "      <td>0.0</td>\n",
       "      <td>0.0</td>\n",
       "      <td>0.0</td>\n",
       "      <td>0.000000</td>\n",
       "      <td>...</td>\n",
       "      <td>0.000000</td>\n",
       "      <td>0.0</td>\n",
       "      <td>NaN</td>\n",
       "      <td>NaN</td>\n",
       "      <td>15.432</td>\n",
       "      <td>17</td>\n",
       "      <td>../../data/netrics_beta/nm_data_20230418_14083...</td>\n",
       "      <td>../../data/netrics_beta/nm_data_20230418_14083...</td>\n",
       "      <td>../../data/netrics_beta/nm_data_20230418_14083...</td>\n",
       "      <td>meet</td>\n",
       "    </tr>\n",
       "    <tr>\n",
       "      <th>1</th>\n",
       "      <td>1681826879</td>\n",
       "      <td>2953878905</td>\n",
       "      <td>1.681827e+12</td>\n",
       "      <td>NaN</td>\n",
       "      <td>6.977010e+05</td>\n",
       "      <td>NaN</td>\n",
       "      <td>0.0</td>\n",
       "      <td>3.0</td>\n",
       "      <td>30.0</td>\n",
       "      <td>23.854223</td>\n",
       "      <td>...</td>\n",
       "      <td>20.673660</td>\n",
       "      <td>25.0</td>\n",
       "      <td>NaN</td>\n",
       "      <td>NaN</td>\n",
       "      <td>15.432</td>\n",
       "      <td>17</td>\n",
       "      <td>../../data/netrics_beta/nm_data_20230418_14083...</td>\n",
       "      <td>../../data/netrics_beta/nm_data_20230418_14083...</td>\n",
       "      <td>../../data/netrics_beta/nm_data_20230418_14083...</td>\n",
       "      <td>meet</td>\n",
       "    </tr>\n",
       "    <tr>\n",
       "      <th>2</th>\n",
       "      <td>1681826880</td>\n",
       "      <td>2953878905</td>\n",
       "      <td>1.681827e+12</td>\n",
       "      <td>19.0</td>\n",
       "      <td>1.215653e+06</td>\n",
       "      <td>VP9 (98, profile-id=0)</td>\n",
       "      <td>0.0</td>\n",
       "      <td>3.0</td>\n",
       "      <td>26.0</td>\n",
       "      <td>24.686317</td>\n",
       "      <td>...</td>\n",
       "      <td>24.686317</td>\n",
       "      <td>26.0</td>\n",
       "      <td>720.0</td>\n",
       "      <td>5160.0</td>\n",
       "      <td>15.432</td>\n",
       "      <td>17</td>\n",
       "      <td>../../data/netrics_beta/nm_data_20230418_14083...</td>\n",
       "      <td>../../data/netrics_beta/nm_data_20230418_14083...</td>\n",
       "      <td>../../data/netrics_beta/nm_data_20230418_14083...</td>\n",
       "      <td>meet</td>\n",
       "    </tr>\n",
       "    <tr>\n",
       "      <th>3</th>\n",
       "      <td>1681826881</td>\n",
       "      <td>2953878905</td>\n",
       "      <td>1.681827e+12</td>\n",
       "      <td>25.0</td>\n",
       "      <td>1.403488e+06</td>\n",
       "      <td>VP9 (98, profile-id=0)</td>\n",
       "      <td>0.0</td>\n",
       "      <td>3.0</td>\n",
       "      <td>23.0</td>\n",
       "      <td>24.729431</td>\n",
       "      <td>...</td>\n",
       "      <td>24.729431</td>\n",
       "      <td>23.0</td>\n",
       "      <td>720.0</td>\n",
       "      <td>4264.0</td>\n",
       "      <td>15.432</td>\n",
       "      <td>17</td>\n",
       "      <td>../../data/netrics_beta/nm_data_20230418_14083...</td>\n",
       "      <td>../../data/netrics_beta/nm_data_20230418_14083...</td>\n",
       "      <td>../../data/netrics_beta/nm_data_20230418_14083...</td>\n",
       "      <td>meet</td>\n",
       "    </tr>\n",
       "    <tr>\n",
       "      <th>4</th>\n",
       "      <td>1681826882</td>\n",
       "      <td>2953878905</td>\n",
       "      <td>1.681827e+12</td>\n",
       "      <td>25.0</td>\n",
       "      <td>1.550349e+06</td>\n",
       "      <td>VP9 (98, profile-id=0)</td>\n",
       "      <td>0.0</td>\n",
       "      <td>3.0</td>\n",
       "      <td>24.0</td>\n",
       "      <td>26.501088</td>\n",
       "      <td>...</td>\n",
       "      <td>24.292664</td>\n",
       "      <td>22.0</td>\n",
       "      <td>720.0</td>\n",
       "      <td>3410.0</td>\n",
       "      <td>15.432</td>\n",
       "      <td>17</td>\n",
       "      <td>../../data/netrics_beta/nm_data_20230418_14083...</td>\n",
       "      <td>../../data/netrics_beta/nm_data_20230418_14083...</td>\n",
       "      <td>../../data/netrics_beta/nm_data_20230418_14083...</td>\n",
       "      <td>meet</td>\n",
       "    </tr>\n",
       "    <tr>\n",
       "      <th>...</th>\n",
       "      <td>...</td>\n",
       "      <td>...</td>\n",
       "      <td>...</td>\n",
       "      <td>...</td>\n",
       "      <td>...</td>\n",
       "      <td>...</td>\n",
       "      <td>...</td>\n",
       "      <td>...</td>\n",
       "      <td>...</td>\n",
       "      <td>...</td>\n",
       "      <td>...</td>\n",
       "      <td>...</td>\n",
       "      <td>...</td>\n",
       "      <td>...</td>\n",
       "      <td>...</td>\n",
       "      <td>...</td>\n",
       "      <td>...</td>\n",
       "      <td>...</td>\n",
       "      <td>...</td>\n",
       "      <td>...</td>\n",
       "      <td>...</td>\n",
       "    </tr>\n",
       "    <tr>\n",
       "      <th>14</th>\n",
       "      <td>1681801688</td>\n",
       "      <td>2374209971</td>\n",
       "      <td>1.681802e+12</td>\n",
       "      <td>25.0</td>\n",
       "      <td>1.439510e+06</td>\n",
       "      <td>VP9 (98, profile-id=0)</td>\n",
       "      <td>0.0</td>\n",
       "      <td>0.0</td>\n",
       "      <td>24.0</td>\n",
       "      <td>23.991168</td>\n",
       "      <td>...</td>\n",
       "      <td>24.990800</td>\n",
       "      <td>25.0</td>\n",
       "      <td>720.0</td>\n",
       "      <td>3809.0</td>\n",
       "      <td>18.186</td>\n",
       "      <td>19</td>\n",
       "      <td>../../data/netrics_beta/nm_data_20230418_07082...</td>\n",
       "      <td>../../data/netrics_beta/nm_data_20230418_07082...</td>\n",
       "      <td>../../data/netrics_beta/nm_data_20230418_07082...</td>\n",
       "      <td>meet</td>\n",
       "    </tr>\n",
       "    <tr>\n",
       "      <th>15</th>\n",
       "      <td>1681801689</td>\n",
       "      <td>2374209971</td>\n",
       "      <td>1.681802e+12</td>\n",
       "      <td>25.0</td>\n",
       "      <td>1.616907e+06</td>\n",
       "      <td>VP9 (98, profile-id=0)</td>\n",
       "      <td>0.0</td>\n",
       "      <td>0.0</td>\n",
       "      <td>26.0</td>\n",
       "      <td>25.142571</td>\n",
       "      <td>...</td>\n",
       "      <td>25.142571</td>\n",
       "      <td>25.0</td>\n",
       "      <td>720.0</td>\n",
       "      <td>4159.0</td>\n",
       "      <td>18.186</td>\n",
       "      <td>19</td>\n",
       "      <td>../../data/netrics_beta/nm_data_20230418_07082...</td>\n",
       "      <td>../../data/netrics_beta/nm_data_20230418_07082...</td>\n",
       "      <td>../../data/netrics_beta/nm_data_20230418_07082...</td>\n",
       "      <td>meet</td>\n",
       "    </tr>\n",
       "    <tr>\n",
       "      <th>16</th>\n",
       "      <td>1681801690</td>\n",
       "      <td>2374209971</td>\n",
       "      <td>1.681802e+12</td>\n",
       "      <td>25.0</td>\n",
       "      <td>1.338044e+06</td>\n",
       "      <td>VP9 (98, profile-id=0)</td>\n",
       "      <td>0.0</td>\n",
       "      <td>0.0</td>\n",
       "      <td>6.0</td>\n",
       "      <td>26.013097</td>\n",
       "      <td>...</td>\n",
       "      <td>26.013097</td>\n",
       "      <td>6.0</td>\n",
       "      <td>720.0</td>\n",
       "      <td>936.0</td>\n",
       "      <td>18.186</td>\n",
       "      <td>19</td>\n",
       "      <td>../../data/netrics_beta/nm_data_20230418_07082...</td>\n",
       "      <td>../../data/netrics_beta/nm_data_20230418_07082...</td>\n",
       "      <td>../../data/netrics_beta/nm_data_20230418_07082...</td>\n",
       "      <td>meet</td>\n",
       "    </tr>\n",
       "    <tr>\n",
       "      <th>17</th>\n",
       "      <td>1681801691</td>\n",
       "      <td>2374209971</td>\n",
       "      <td>1.681802e+12</td>\n",
       "      <td>26.0</td>\n",
       "      <td>1.496556e+06</td>\n",
       "      <td>VP9 (98, profile-id=0)</td>\n",
       "      <td>0.0</td>\n",
       "      <td>0.0</td>\n",
       "      <td>27.0</td>\n",
       "      <td>25.419870</td>\n",
       "      <td>...</td>\n",
       "      <td>25.419870</td>\n",
       "      <td>27.0</td>\n",
       "      <td>720.0</td>\n",
       "      <td>4315.0</td>\n",
       "      <td>18.186</td>\n",
       "      <td>19</td>\n",
       "      <td>../../data/netrics_beta/nm_data_20230418_07082...</td>\n",
       "      <td>../../data/netrics_beta/nm_data_20230418_07082...</td>\n",
       "      <td>../../data/netrics_beta/nm_data_20230418_07082...</td>\n",
       "      <td>meet</td>\n",
       "    </tr>\n",
       "    <tr>\n",
       "      <th>18</th>\n",
       "      <td>1681801692</td>\n",
       "      <td>2374209971</td>\n",
       "      <td>1.681802e+12</td>\n",
       "      <td>25.0</td>\n",
       "      <td>1.413542e+06</td>\n",
       "      <td>VP9 (98, profile-id=0)</td>\n",
       "      <td>0.0</td>\n",
       "      <td>0.0</td>\n",
       "      <td>23.0</td>\n",
       "      <td>24.573598</td>\n",
       "      <td>...</td>\n",
       "      <td>24.573598</td>\n",
       "      <td>23.0</td>\n",
       "      <td>720.0</td>\n",
       "      <td>3405.0</td>\n",
       "      <td>18.186</td>\n",
       "      <td>19</td>\n",
       "      <td>../../data/netrics_beta/nm_data_20230418_07082...</td>\n",
       "      <td>../../data/netrics_beta/nm_data_20230418_07082...</td>\n",
       "      <td>../../data/netrics_beta/nm_data_20230418_07082...</td>\n",
       "      <td>meet</td>\n",
       "    </tr>\n",
       "  </tbody>\n",
       "</table>\n",
       "<p>381 rows × 29 columns</p>\n",
       "</div>"
      ],
      "text/plain": [
       "            ts        ssrc  lastPacketReceivedTimestamp  framesPerSecond  \\\n",
       "0   1681826878  2953878905                 1.681827e+12              NaN   \n",
       "1   1681826879  2953878905                 1.681827e+12              NaN   \n",
       "2   1681826880  2953878905                 1.681827e+12             19.0   \n",
       "3   1681826881  2953878905                 1.681827e+12             25.0   \n",
       "4   1681826882  2953878905                 1.681827e+12             25.0   \n",
       "..         ...         ...                          ...              ...   \n",
       "14  1681801688  2374209971                 1.681802e+12             25.0   \n",
       "15  1681801689  2374209971                 1.681802e+12             25.0   \n",
       "16  1681801690  2374209971                 1.681802e+12             25.0   \n",
       "17  1681801691  2374209971                 1.681802e+12             26.0   \n",
       "18  1681801692  2374209971                 1.681802e+12             25.0   \n",
       "\n",
       "         bitrate                 [codec]  packetsLost  framesDropped  \\\n",
       "0   0.000000e+00                     NaN          0.0            0.0   \n",
       "1   6.977010e+05                     NaN          0.0            3.0   \n",
       "2   1.215653e+06  VP9 (98, profile-id=0)          0.0            3.0   \n",
       "3   1.403488e+06  VP9 (98, profile-id=0)          0.0            3.0   \n",
       "4   1.550349e+06  VP9 (98, profile-id=0)          0.0            3.0   \n",
       "..           ...                     ...          ...            ...   \n",
       "14  1.439510e+06  VP9 (98, profile-id=0)          0.0            0.0   \n",
       "15  1.616907e+06  VP9 (98, profile-id=0)          0.0            0.0   \n",
       "16  1.338044e+06  VP9 (98, profile-id=0)          0.0            0.0   \n",
       "17  1.496556e+06  VP9 (98, profile-id=0)          0.0            0.0   \n",
       "18  1.413542e+06  VP9 (98, profile-id=0)          0.0            0.0   \n",
       "\n",
       "    framesReceived  framesReceivedPerSecond  ...  framesDecodedPerSecond  \\\n",
       "0              0.0                 0.000000  ...                0.000000   \n",
       "1             30.0                23.854223  ...               20.673660   \n",
       "2             26.0                24.686317  ...               24.686317   \n",
       "3             23.0                24.729431  ...               24.729431   \n",
       "4             24.0                26.501088  ...               24.292664   \n",
       "..             ...                      ...  ...                     ...   \n",
       "14            24.0                23.991168  ...               24.990800   \n",
       "15            26.0                25.142571  ...               25.142571   \n",
       "16             6.0                26.013097  ...               26.013097   \n",
       "17            27.0                25.419870  ...               25.419870   \n",
       "18            23.0                24.573598  ...               24.573598   \n",
       "\n",
       "    jitterBufferEmittedCount  frameHeight   qpSum  duration  num_vals  \\\n",
       "0                        0.0          NaN     NaN    15.432        17   \n",
       "1                       25.0          NaN     NaN    15.432        17   \n",
       "2                       26.0        720.0  5160.0    15.432        17   \n",
       "3                       23.0        720.0  4264.0    15.432        17   \n",
       "4                       22.0        720.0  3410.0    15.432        17   \n",
       "..                       ...          ...     ...       ...       ...   \n",
       "14                      25.0        720.0  3809.0    18.186        19   \n",
       "15                      25.0        720.0  4159.0    18.186        19   \n",
       "16                       6.0        720.0   936.0    18.186        19   \n",
       "17                      27.0        720.0  4315.0    18.186        19   \n",
       "18                      23.0        720.0  3405.0    18.186        19   \n",
       "\n",
       "                                            pcap_file  \\\n",
       "0   ../../data/netrics_beta/nm_data_20230418_14083...   \n",
       "1   ../../data/netrics_beta/nm_data_20230418_14083...   \n",
       "2   ../../data/netrics_beta/nm_data_20230418_14083...   \n",
       "3   ../../data/netrics_beta/nm_data_20230418_14083...   \n",
       "4   ../../data/netrics_beta/nm_data_20230418_14083...   \n",
       "..                                                ...   \n",
       "14  ../../data/netrics_beta/nm_data_20230418_07082...   \n",
       "15  ../../data/netrics_beta/nm_data_20230418_07082...   \n",
       "16  ../../data/netrics_beta/nm_data_20230418_07082...   \n",
       "17  ../../data/netrics_beta/nm_data_20230418_07082...   \n",
       "18  ../../data/netrics_beta/nm_data_20230418_07082...   \n",
       "\n",
       "                                             csv_file  \\\n",
       "0   ../../data/netrics_beta/nm_data_20230418_14083...   \n",
       "1   ../../data/netrics_beta/nm_data_20230418_14083...   \n",
       "2   ../../data/netrics_beta/nm_data_20230418_14083...   \n",
       "3   ../../data/netrics_beta/nm_data_20230418_14083...   \n",
       "4   ../../data/netrics_beta/nm_data_20230418_14083...   \n",
       "..                                                ...   \n",
       "14  ../../data/netrics_beta/nm_data_20230418_07082...   \n",
       "15  ../../data/netrics_beta/nm_data_20230418_07082...   \n",
       "16  ../../data/netrics_beta/nm_data_20230418_07082...   \n",
       "17  ../../data/netrics_beta/nm_data_20230418_07082...   \n",
       "18  ../../data/netrics_beta/nm_data_20230418_07082...   \n",
       "\n",
       "                                          webrtc_file   vca  \n",
       "0   ../../data/netrics_beta/nm_data_20230418_14083...  meet  \n",
       "1   ../../data/netrics_beta/nm_data_20230418_14083...  meet  \n",
       "2   ../../data/netrics_beta/nm_data_20230418_14083...  meet  \n",
       "3   ../../data/netrics_beta/nm_data_20230418_14083...  meet  \n",
       "4   ../../data/netrics_beta/nm_data_20230418_14083...  meet  \n",
       "..                                                ...   ...  \n",
       "14  ../../data/netrics_beta/nm_data_20230418_07082...  meet  \n",
       "15  ../../data/netrics_beta/nm_data_20230418_07082...  meet  \n",
       "16  ../../data/netrics_beta/nm_data_20230418_07082...  meet  \n",
       "17  ../../data/netrics_beta/nm_data_20230418_07082...  meet  \n",
       "18  ../../data/netrics_beta/nm_data_20230418_07082...  meet  \n",
       "\n",
       "[381 rows x 29 columns]"
      ]
     },
     "execution_count": 7,
     "metadata": {},
     "output_type": "execute_result"
    }
   ],
   "source": [
    "df"
   ]
  },
  {
   "cell_type": "code",
   "execution_count": 8,
   "id": "02785cda-1433-4175-b1d3-02c0ec837d19",
   "metadata": {},
   "outputs": [
    {
     "data": {
      "image/png": "[encoded data removed]",
      "text/plain": [
       "<Figure size 468.75x225 with 1 Axes>"
      ]
     },
     "metadata": {},
     "output_type": "display_data"
    }
   ],
   "source": [
    "df = df.reset_index()\n",
    "sns.ecdfplot(data=df, x = 'framesReceived', hue='vca')\n",
    "plt.grid(visible=1)"
   ]
  },
  {
   "cell_type": "code",
   "execution_count": 9,
   "id": "84b7e86d-51e5-469d-9810-de592c07a44d",
   "metadata": {},
   "outputs": [],
   "source": [
    "df_meet = df[df['vca'] == 'meet']\n",
    "df_teams = df[df['vca'] == 'teams']"
   ]
  },
  {
   "cell_type": "code",
   "execution_count": 27,
   "id": "0568de25-f88b-4594-b679-d9251c6b67b2",
   "metadata": {},
   "outputs": [
    {
     "data": {
      "image/png": "[encoded data removed]",
      "text/plain": [
       "<Figure size 468.75x225 with 1 Axes>"
      ]
     },
     "metadata": {},
     "output_type": "display_data"
    }
   ],
   "source": [
    "time_sorted = []\n",
    "for f in df_meet['webrtc_file'].unique():\n",
    "    d = df_meet[df_meet['webrtc_file'] == f]\n",
    "    d = d.sort_values(by='ts')\n",
    "    d['relative_time'] = d['ts'] - d['ts'].min()\n",
    "    time_sorted.append(d)\n",
    "dfm = pd.concat(time_sorted, axis=0)\n",
    "sns.lineplot(data = dfm, x = 'relative_time', y = 'framesReceived', marker='o', label='framesReceived')\n",
    "sns.lineplot(data = dfm, x = 'relative_time', y = 'framesDropped', marker='o', label='framesDropped')\n",
    "plt.title('VCA = Meet')\n",
    "plt.ylabel('Number of frames')\n",
    "plt.grid(visible=1)"
   ]
  },
  {
   "cell_type": "code",
   "execution_count": 28,
   "id": "f00dccec-bfa8-469c-9e11-2be1ebb42990",
   "metadata": {},
   "outputs": [
    {
     "data": {
      "text/plain": [
       "<AxesSubplot: xlabel='framesDropped', ylabel='Proportion'>"
      ]
     },
     "execution_count": 28,
     "metadata": {},
     "output_type": "execute_result"
    },
    {
     "data": {
      "image/png": "[encoded data removed]",
      "text/plain": [
       "<Figure size 468.75x225 with 1 Axes>"
      ]
     },
     "metadata": {},
     "output_type": "display_data"
    }
   ],
   "source": [
    "sns.ecdfplot(data=df_meet, x = 'framesDropped')"
   ]
  },
  {
   "cell_type": "code",
   "execution_count": 45,
   "id": "d5a1bc01-fed5-4d66-9f75-dacd6bb81255",
   "metadata": {},
   "outputs": [
    {
     "data": {
      "image/png": "[encoded data removed]",
      "text/plain": [
       "<Figure size 468.75x225 with 1 Axes>"
      ]
     },
     "metadata": {},
     "output_type": "display_data"
    }
   ],
   "source": [
    "time_sorted = []\n",
    "for f in df_teams['webrtc_file'].unique():\n",
    "    d = df_teams[df_teams['webrtc_file'] == f]\n",
    "    d = d.sort_values(by='ts')\n",
    "    d['relative_time'] = d['ts'] - d['ts'].min()\n",
    "    time_sorted.append(d)\n",
    "dfm = pd.concat(time_sorted, axis=0)\n",
    "sns.lineplot(data = dfm, x = 'relative_time', y = 'framesReceived', marker='o', label='framesReceived')\n",
    "sns.lineplot(data = dfm, x = 'relative_time', y = 'framesDropped', marker='o', label='framesDropped')\n",
    "plt.title('VCA = Teams')\n",
    "plt.legend(loc='lower center', bbox_to_anchor=(0.5, -0.5), ncol=2)\n",
    "plt.ylabel('Number of frames')\n",
    "plt.grid(visible=1)"
   ]
  },
  {
   "cell_type": "code",
   "execution_count": 46,
   "id": "caa20750-52ce-4823-9c85-65211370eda8",
   "metadata": {},
   "outputs": [
    {
     "data": {
      "text/plain": [
       "<AxesSubplot: xlabel='framesDropped', ylabel='Proportion'>"
      ]
     },
     "execution_count": 46,
     "metadata": {},
     "output_type": "execute_result"
    },
    {
     "data": {
      "image/png": "[encoded data removed]",
      "text/plain": [
       "<Figure size 468.75x225 with 1 Axes>"
      ]
     },
     "metadata": {},
     "output_type": "display_data"
    }
   ],
   "source": [
    "sns.ecdfplot(data=df_teams, x = 'framesDropped')"
   ]
  },
  {
   "cell_type": "markdown",
   "id": "f8256e62-5d79-4157-932c-83e5dca2a896",
   "metadata": {},
   "source": [
    "There's a dip in FPS for both VCAs near the end of the call. Is it an artifact of the test procedure / device compute / network conditions?"
   ]
  },
  {
   "cell_type": "code",
   "execution_count": 12,
   "id": "8ebdb6f8-f5fa-44a5-bc3b-09595003553a",
   "metadata": {},
   "outputs": [],
   "source": [
    "%run '../qoe_estimation/rtp/model.py'\n",
    "%run '../qoe_estimation/frame_lookback/model.py'\n",
    "from config import project_config"
   ]
  },
  {
   "cell_type": "code",
   "execution_count": 13,
   "id": "ca625620-173e-4e20-96f6-13e56f5ea4cf",
   "metadata": {},
   "outputs": [],
   "source": [
    "rtp_meet = RTPModel('meet', 'framesReceived')\n",
    "rtp_teams = RTPModel('teams', 'framesReceived')\n",
    "\n",
    "preds = []\n",
    "for webrtc_file in df_meet['webrtc_file'].unique():\n",
    "    d = df_meet[df_meet['webrtc_file'] == webrtc_file]\n",
    "    p = list(d['pcap_file'].unique())[0]\n",
    "    c = list(d['csv_file'].unique())[0]\n",
    "    pred = rtp_meet.estimate((p, c, webrtc_file))\n",
    "    preds.append(pred)\n",
    "df_pred_meet = pd.concat(preds, axis=0)\n",
    "\n",
    "preds = []\n",
    "for webrtc_file in df_teams['webrtc_file'].unique():\n",
    "    d = df_teams[df_teams['webrtc_file'] == webrtc_file]\n",
    "    p = list(d['pcap_file'].unique())[0]\n",
    "    c = list(d['csv_file'].unique())[0]\n",
    "    pred = rtp_teams.estimate((p, c, webrtc_file))\n",
    "    preds.append(pred)\n",
    "df_pred_teams = pd.concat(preds, axis=0)"
   ]
  },
  {
   "cell_type": "code",
   "execution_count": 14,
   "id": "8ce92ee0-e66f-4dc7-a373-bc6716e6e57b",
   "metadata": {},
   "outputs": [
    {
     "name": "stdout",
     "output_type": "stream",
     "text": [
      "Meet RTP Heuristic Error =  2.88\n",
      "Teams RTP Heuristic Error =  3.31\n"
     ]
    }
   ],
   "source": [
    "from sklearn.metrics import mean_absolute_error\n",
    "\n",
    "print('Meet RTP Heuristic Error = ', round(mean_absolute_error(df_pred_meet['framesReceived_rtp'], df_pred_meet['framesReceived_gt']), 2))\n",
    "print('Teams RTP Heuristic Error = ', round(mean_absolute_error(df_pred_teams['framesReceived_rtp'], df_pred_teams['framesReceived_gt']), 2))"
   ]
  },
  {
   "cell_type": "code",
   "execution_count": 15,
   "id": "f1a9d310-f1e5-4b27-87b3-d7e685f459b3",
   "metadata": {},
   "outputs": [
    {
     "name": "stdout",
     "output_type": "stream",
     "text": [
      "Meet IP/UDP Heuristic Error =  39.95\n",
      "Teams IP/UDP Heuristic Error =  6.88\n"
     ]
    }
   ],
   "source": [
    "from config import project_config\n",
    "\n",
    "lookback_meet = FrameLookbackModel('meet', 'framesReceived', project_config)\n",
    "lookback_teams = FrameLookbackModel('teams', 'framesReceived', project_config)\n",
    "\n",
    "preds = []\n",
    "for webrtc_file in df_meet['webrtc_file'].unique():\n",
    "    d = df_meet[df_meet['webrtc_file'] == webrtc_file]\n",
    "    p = list(d['pcap_file'].unique())[0]\n",
    "    c = list(d['csv_file'].unique())[0]\n",
    "    pred = lookback_meet.estimate((p, c, webrtc_file))\n",
    "    preds.append(pred)\n",
    "df_pred_meet = pd.concat(preds, axis=0)\n",
    "\n",
    "preds = []\n",
    "for webrtc_file in df_teams['webrtc_file'].unique():\n",
    "    d = df_teams[df_teams['webrtc_file'] == webrtc_file]\n",
    "    p = list(d['pcap_file'].unique())[0]\n",
    "    c = list(d['csv_file'].unique())[0]\n",
    "    pred = lookback_teams.estimate((p, c, webrtc_file))\n",
    "    preds.append(pred)\n",
    "df_pred_teams = pd.concat(preds, axis=0)\n",
    "\n",
    "print('Meet IP/UDP Heuristic Error = ', round(mean_absolute_error(df_pred_meet['framesReceived_frame-lookback'], df_pred_meet['framesReceived_gt']), 2))\n",
    "print('Teams IP/UDP Heuristic Error = ', round(mean_absolute_error(df_pred_teams['framesReceived_frame-lookback'], df_pred_teams['framesReceived_gt']), 2))"
   ]
  }
 ],
 "metadata": {
  "kernelspec": {
   "display_name": "Python 3",
   "language": "python",
   "name": "python3"
  },
  "language_info": {
   "codemirror_mode": {
    "name": "ipython",
    "version": 3
   },
   "file_extension": ".py",
   "mimetype": "text/x-python",
   "name": "python",
   "nbconvert_exporter": "python",
   "pygments_lexer": "ipython3",
   "version": "3.6.8"
  }
 },
 "nbformat": 4,
 "nbformat_minor": 5
}
